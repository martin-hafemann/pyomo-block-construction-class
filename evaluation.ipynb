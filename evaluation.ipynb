{
 "cells": [
  {
   "cell_type": "code",
   "execution_count": 1,
   "metadata": {},
   "outputs": [],
   "source": [
    "import pandas as pd"
   ]
  },
  {
   "cell_type": "markdown",
   "metadata": {},
   "source": [
    "Get output data"
   ]
  },
  {
   "cell_type": "code",
   "execution_count": 2,
   "metadata": {},
   "outputs": [
    {
     "name": "stdout",
     "output_type": "stream",
     "text": [
      "    gas_price  power_price  chp1.bin  chp1.gas  chp1.power  chp1.heat  \\\n",
      "0          16           21       0.0       0.0         0.0        0.0   \n",
      "1          16           20       0.0       0.0         0.0        0.0   \n",
      "2          16           22       0.0       0.0         0.0        0.0   \n",
      "3          16           20       0.0       0.0         0.0        0.0   \n",
      "4          16           41       1.0       4.8         2.0        2.0   \n",
      "5          18           60       1.0       4.8         2.0        2.0   \n",
      "6          18           50       1.0       4.8         2.0        2.0   \n",
      "7          18           35       1.0       2.5         1.0        1.0   \n",
      "8          18           40       1.0       2.5         1.0        1.0   \n",
      "9          18           14       0.0       0.0         0.0        0.0   \n",
      "10         18          -12       0.0       0.0         0.0        0.0   \n",
      "11         18           10       0.0       0.0         0.0        0.0   \n",
      "12         18           25       0.0       0.0         0.0        0.0   \n",
      "13         18           25       0.0       0.0         0.0        0.0   \n",
      "14         18           30       0.0       0.0         0.0        0.0   \n",
      "15         18           40       1.0       2.5         1.0        1.0   \n",
      "16         18           50       1.0       4.8         2.0        2.0   \n",
      "17         18           61       1.0       4.8         2.0        2.0   \n",
      "18         18           50       1.0       4.8         2.0        2.0   \n",
      "19         18           30       1.0       2.5         1.0        1.0   \n",
      "20         18           20       0.0       0.0         0.0        0.0   \n",
      "21         18           15       0.0       0.0         0.0        0.0   \n",
      "22         18           10      -0.0       0.0        -0.0        0.0   \n",
      "23         18           15      -0.0       0.0        -0.0        0.0   \n",
      "\n",
      "    chp2.bin  chp2.gas  chp2.power  chp2.heat  \n",
      "0        0.0       0.0         0.0        0.0  \n",
      "1        0.0       0.0         0.0        0.0  \n",
      "2        0.0       0.0         0.0        0.0  \n",
      "3        0.0       0.0         0.0        0.0  \n",
      "4        1.0       4.8         3.0        3.0  \n",
      "5        1.0       4.8         3.0        3.0  \n",
      "6        1.0       4.8         3.0        3.0  \n",
      "7        1.0       4.8         3.0        3.0  \n",
      "8        1.0       4.8         3.0        3.0  \n",
      "9        0.0       0.0         0.0        0.0  \n",
      "10       0.0       0.0         0.0        0.0  \n",
      "11       0.0       0.0         0.0        0.0  \n",
      "12       0.0       0.0         0.0        0.0  \n",
      "13       0.0       0.0         0.0        0.0  \n",
      "14       1.0       4.8         3.0        3.0  \n",
      "15       1.0       4.8         3.0        3.0  \n",
      "16       1.0       4.8         3.0        3.0  \n",
      "17       1.0       4.8         3.0        3.0  \n",
      "18       1.0       4.8         3.0        3.0  \n",
      "19       1.0       4.8         3.0        3.0  \n",
      "20       0.0       0.0         0.0        0.0  \n",
      "21       0.0       0.0         0.0        0.0  \n",
      "22       0.0       0.0         0.0        0.0  \n",
      "23       0.0       0.0         0.0        0.0  \n"
     ]
    }
   ],
   "source": [
    "data = pd.read_csv('data/output/output_time_series.csv', index_col=0)\n",
    "print(data)"
   ]
  },
  {
   "cell_type": "markdown",
   "metadata": {},
   "source": [
    "Check objective value"
   ]
  },
  {
   "cell_type": "code",
   "execution_count": 3,
   "metadata": {},
   "outputs": [],
   "source": [
    "with open('data/output/solver.log', 'r') as file:\n",
    "    phrase = \"Best objective \"\n",
    "    for line in file:\n",
    "        if phrase in line:\n",
    "            obj_string = line.split(',')[0]\n",
    "            obj_value = float(obj_string.replace(phrase, \"\"))"
   ]
  },
  {
   "cell_type": "code",
   "execution_count": 4,
   "metadata": {},
   "outputs": [],
   "source": [
    "costs = ((data['chp1.gas'] + data['chp2.gas'])\n",
    "         * data['gas_price']\n",
    "         ).sum()\n",
    "revenue = ((data['chp1.power'] + data['chp2.power'])\n",
    "           * data['power_price']\n",
    "           ).sum()\n",
    "obj_evaluation = costs - revenue"
   ]
  },
  {
   "cell_type": "code",
   "execution_count": 5,
   "metadata": {},
   "outputs": [
    {
     "name": "stdout",
     "output_type": "stream",
     "text": [
      "Objective solver: \t -600.4\n",
      "Objective evaluation: \t -600.4000000000001\n",
      "Objective difference: \t 1.1368683772161603e-13\n"
     ]
    }
   ],
   "source": [
    "print('Objective solver: \\t', obj_value)\n",
    "print('Objective evaluation: \\t', obj_evaluation)\n",
    "print('Objective difference: \\t', obj_value - obj_evaluation)"
   ]
  }
 ],
 "metadata": {
  "kernelspec": {
   "display_name": ".venv",
   "language": "python",
   "name": "python3"
  },
  "language_info": {
   "codemirror_mode": {
    "name": "ipython",
    "version": 3
   },
   "file_extension": ".py",
   "mimetype": "text/x-python",
   "name": "python",
   "nbconvert_exporter": "python",
   "pygments_lexer": "ipython3",
   "version": "3.11.4"
  },
  "orig_nbformat": 4
 },
 "nbformat": 4,
 "nbformat_minor": 2
}
